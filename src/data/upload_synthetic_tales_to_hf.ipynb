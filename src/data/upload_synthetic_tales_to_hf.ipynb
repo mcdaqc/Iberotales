{
 "cells": [
  {
   "cell_type": "markdown",
   "metadata": {},
   "source": [
    "# Subir dataset a HuggingFace  "
   ]
  },
  {
   "cell_type": "code",
   "execution_count": 15,
   "metadata": {},
   "outputs": [],
   "source": [
    "import os\n",
    "from huggingface_hub import HfApi, HfFolder\n",
    "from datasets import Dataset\n",
    "import pandas as pd\n",
    "\n",
    "HF_TOKEN = \"YOUR_HF_TOKEN_HERE\" \n",
    "HfFolder.save_token(HF_TOKEN)\n",
    "\n",
    "def upload_dataset():\n",
    "    \"\"\"Sube el dataset combinado a HuggingFace.\"\"\"\n",
    "    # Cargar el dataset combinado\n",
    "    df = pd.read_csv(\"../../data/generated/historias.csv\")\n",
    "    \n",
    "    # Renombrar las columnas\n",
    "    df = df.rename(columns={\n",
    "        'id': 'id',\n",
    "        'nombre': 'nombre',\n",
    "        'pais': 'pais',\n",
    "        'Theme': 'tema',\n",
    "        'Trama': 'trama',\n",
    "        'question': 'pregunta',\n",
    "        'answer': 'respuesta'\n",
    "    })\n",
    "    \n",
    "    # Convertir a dataset de HuggingFace\n",
    "    dataset = Dataset.from_pandas(df)\n",
    "    \n",
    "    # Subir a HuggingFace\n",
    "    dataset.push_to_hub(\n",
    "        \"somosnlp-hackathon-2025/ibero-tales-es\",\n",
    "        token=HF_TOKEN,\n",
    "        private=False  # Cambiar a True si deseas que el dataset sea privado\n",
    "    )\n",
    "    print(\"✅ ¡Dataset subido exitosamente a HuggingFace!\")\n",
    "    print(f\"Total de registros subidos: {len(dataset)}\")\n",
    "    print(\"\\nColumnas del dataset:\")\n",
    "    print(dataset.column_names)\n"
   ]
  },
  {
   "cell_type": "code",
   "execution_count": 16,
   "metadata": {},
   "outputs": [
    {
     "data": {
      "application/vnd.jupyter.widget-view+json": {
       "model_id": "2ce35b3e871d4a328417f085d71246eb",
       "version_major": 2,
       "version_minor": 0
      },
      "text/plain": [
       "Uploading the dataset shards:   0%|          | 0/1 [00:00<?, ?it/s]"
      ]
     },
     "metadata": {},
     "output_type": "display_data"
    },
    {
     "data": {
      "application/vnd.jupyter.widget-view+json": {
       "model_id": "500cfb7159fe418eb7f7db6afc042959",
       "version_major": 2,
       "version_minor": 0
      },
      "text/plain": [
       "Creating parquet from Arrow format:   0%|          | 0/3 [00:00<?, ?ba/s]"
      ]
     },
     "metadata": {},
     "output_type": "display_data"
    },
    {
     "name": "stdout",
     "output_type": "stream",
     "text": [
      "✅ Dataset uploaded successfully to HuggingFace!\n",
      "Total records uploaded: 2283\n",
      "\n",
      "Columnas del dataset:\n",
      "['id', 'nombre', 'pais', 'tema', 'trama', 'pregunta', 'respuesta']\n"
     ]
    }
   ],
   "source": [
    "# Ejecuta la función\n",
    "upload_dataset()"
   ]
  }
 ],
 "metadata": {
  "kernelspec": {
   "display_name": "Python 3 (ipykernel)",
   "language": "python",
   "name": "python3"
  },
  "language_info": {
   "codemirror_mode": {
    "name": "ipython",
    "version": 3
   },
   "file_extension": ".py",
   "mimetype": "text/x-python",
   "name": "python",
   "nbconvert_exporter": "python",
   "pygments_lexer": "ipython3",
   "version": "3.12.9"
  }
 },
 "nbformat": 4,
 "nbformat_minor": 4
}
